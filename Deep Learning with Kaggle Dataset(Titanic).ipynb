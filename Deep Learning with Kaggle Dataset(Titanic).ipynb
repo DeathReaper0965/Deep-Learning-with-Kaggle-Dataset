{
 "cells": [
  {
   "cell_type": "code",
   "execution_count": 14,
   "metadata": {
    "collapsed": true
   },
   "outputs": [],
   "source": [
    "import numpy as np\n",
    "from sklearn.metrics import mean_squared_error"
   ]
  },
  {
   "cell_type": "code",
   "execution_count": 35,
   "metadata": {},
   "outputs": [
    {
     "name": "stdout",
     "output_type": "stream",
     "text": [
      "3\n",
      "6\n",
      "9\n",
      "error: 36.0\n"
     ]
    },
    {
     "data": {
      "text/plain": [
       "'weights_mod = {\\'node_0\\': [2, 1], \\'node_1\\': [1, 2], \\'output\\': [1, 0]}\\nresult = predict_output(input_data, weights_mod)\\nprint(\"required: \" + str(result))\\n'"
      ]
     },
     "execution_count": 35,
     "metadata": {},
     "output_type": "execute_result"
    }
   ],
   "source": [
    "def relu(inp):\n",
    "    return max(0, inp)\n",
    "\n",
    "def predict_output(input_data, weights):\n",
    "    node0 = (input_data * weights['node_0']).sum()\n",
    "    node0 = relu(node0)\n",
    "    print(node0)\n",
    "    node1 = (input_data * weights['node_1']).sum()\n",
    "    node1 = relu(node1)\n",
    "    print(node1)\n",
    "    hidden0 = np.array([node0, node1])\n",
    "    modelOut = (hidden0 * weights['output']).sum()\n",
    "    modelOut = relu(modelOut)\n",
    "    \n",
    "    return modelOut\n",
    "\n",
    "input_data = np.array([0, 3])\n",
    "weights = {'node_0': [2, 1], 'node_1': [1, 2], 'output': [1, 1]}\n",
    "\n",
    "actual_output = 3\n",
    "result = predict_output(input_data, weights)\n",
    "print(result)\n",
    "error = mean_squared_error(np.array([result]), np.array([actual_output]))\n",
    "print(\"error: \" + str(error))\n",
    "\n",
    "'''weights_mod = {'node_0': [2, 1], 'node_1': [1, 2], 'output': [1, 0]}\n",
    "result = predict_output(input_data, weights_mod)\n",
    "print(\"required: \" + str(result))\n",
    "'''"
   ]
  },
  {
   "cell_type": "code",
   "execution_count": 37,
   "metadata": {},
   "outputs": [
    {
     "name": "stdout",
     "output_type": "stream",
     "text": [
      "3\n",
      "[0 0]\n"
     ]
    }
   ],
   "source": [
    "preds = (input_data * weights[\"output\"]).sum()\n",
    "print(preds)\n",
    "err = actual_output - preds\n",
    "slope = 2 * input_data * err\n",
    "print(slope)"
   ]
  },
  {
   "cell_type": "code",
   "execution_count": 41,
   "metadata": {},
   "outputs": [
    {
     "data": {
      "text/plain": [
       "array([[-1.31603756, -1.87239049],\n",
       "       [-1.36741148, -2.22662808],\n",
       "       [-1.92851983, -0.22908363],\n",
       "       [-2.53033333, -1.35468091],\n",
       "       [-0.8065295 , -3.02486839],\n",
       "       [-1.83565767, -0.44415151],\n",
       "       [-2.09706063, -2.21455725],\n",
       "       [-0.30444219, -0.53359485],\n",
       "       [-2.71188099, -1.2032539 ],\n",
       "       [-2.60453876, -2.38213572],\n",
       "       [-2.55794238, -0.83525083],\n",
       "       [-0.93992352, -1.29384472],\n",
       "       [-0.64593481, -2.42465987],\n",
       "       [-1.56070571, -1.20321506],\n",
       "       [-1.4739609 , -1.48687581],\n",
       "       [-2.83662735, -1.12168577],\n",
       "       [-3.214825  , -2.31051121],\n",
       "       [-0.9052412 , -2.10598986],\n",
       "       [-3.91274686,  0.09018363],\n",
       "       [-3.59753385, -2.01709571],\n",
       "       [-2.49095604, -2.25824717],\n",
       "       [-2.05232547, -1.9968705 ],\n",
       "       [-1.11637454, -3.4133853 ],\n",
       "       [-3.86420548, -2.21212006],\n",
       "       [-1.72431111, -2.02338782],\n",
       "       [-0.31118088, -3.108793  ],\n",
       "       [-2.64045611, -2.1257073 ],\n",
       "       [-1.40262254, -2.25119097],\n",
       "       [-2.44527193, -1.53310174],\n",
       "       [-0.4470347 , -2.0023545 ],\n",
       "       [-2.65575588, -2.75818591],\n",
       "       [-2.56498324, -2.26364972],\n",
       "       [-2.03773639, -1.97674821],\n",
       "       [-3.37555265, -0.98663782],\n",
       "       [-1.37748416, -2.65180859],\n",
       "       [-1.91748647, -1.38653553],\n",
       "       [-1.65705212, -3.03207125],\n",
       "       [-1.98682952, -1.84163378],\n",
       "       [-1.08085768, -1.36415012],\n",
       "       [-0.12811787, -1.31667017],\n",
       "       [-1.90452968,  0.28501621],\n",
       "       [-3.0104731 , -3.61839309],\n",
       "       [-3.0773356 , -1.29560075],\n",
       "       [-1.68495339, -1.78316296],\n",
       "       [-0.93879517, -2.64792505],\n",
       "       [-2.81032823, -1.80352489],\n",
       "       [-3.09642483, -3.60884526],\n",
       "       [-0.51813304, -1.23660563],\n",
       "       [-1.9163093 , -0.67257423],\n",
       "       [-2.2092874 , -2.22390556]])"
      ]
     },
     "execution_count": 41,
     "metadata": {},
     "output_type": "execute_result"
    }
   ],
   "source": [
    "np.random.randn(50, 2) - 2 * np.ones((50, 2))"
   ]
  },
  {
   "cell_type": "markdown",
   "metadata": {},
   "source": [
    "## for printing out the submission file.\n",
    "\n",
    "    First you need to convert the required things like id's and stuff into it's respective datatypes.\n",
    "    As DataFrame only takes numpy arrays as inputs, converting into the numpy array would make it error-free\n",
    "    Eg: pid = np.array(dataset[\"pid\"]).astype(int)\n",
    "    \n",
    "    Now, all that is left is to convert the required columns and predictions into a dataframe\n",
    "    Eg: sol = pd.DataFrame(my_predictions, pid, columns = [\"Column-names seperated by commas\"])\n",
    "    \n",
    "    Now, the last step is to convert this dataframe into a csv using the pandas to_csv() function\n",
    "    Eg: sol.to_csv(\"sol.csv\", index_label = [\"pid\"])\n",
    "    \n",
    "    Note: While dealing with Kaggle submissions, consider the exact way in which the data is to be submitted\n",
    "            Failing which will produce errors"
   ]
  },
  {
   "cell_type": "code",
   "execution_count": 133,
   "metadata": {},
   "outputs": [],
   "source": [
    "import pandas as pd\n",
    "from sklearn import tree\n",
    "\n",
    "train_set = pd.read_csv(\"train.csv\")\n",
    "test_set = pd.read_csv(\"test.csv\")"
   ]
  },
  {
   "cell_type": "code",
   "execution_count": 134,
   "metadata": {},
   "outputs": [
    {
     "name": "stderr",
     "output_type": "stream",
     "text": [
      "C:\\Users\\Praneet\\Anaconda3\\lib\\site-packages\\ipykernel_launcher.py:8: SettingWithCopyWarning: \n",
      "A value is trying to be set on a copy of a slice from a DataFrame\n",
      "\n",
      "See the caveats in the documentation: http://pandas.pydata.org/pandas-docs/stable/indexing.html#indexing-view-versus-copy\n",
      "  \n",
      "C:\\Users\\Praneet\\Anaconda3\\lib\\site-packages\\ipykernel_launcher.py:9: SettingWithCopyWarning: \n",
      "A value is trying to be set on a copy of a slice from a DataFrame\n",
      "\n",
      "See the caveats in the documentation: http://pandas.pydata.org/pandas-docs/stable/indexing.html#indexing-view-versus-copy\n",
      "  if __name__ == '__main__':\n",
      "C:\\Users\\Praneet\\Anaconda3\\lib\\site-packages\\ipykernel_launcher.py:17: SettingWithCopyWarning: \n",
      "A value is trying to be set on a copy of a slice from a DataFrame\n",
      "\n",
      "See the caveats in the documentation: http://pandas.pydata.org/pandas-docs/stable/indexing.html#indexing-view-versus-copy\n",
      "C:\\Users\\Praneet\\Anaconda3\\lib\\site-packages\\ipykernel_launcher.py:18: SettingWithCopyWarning: \n",
      "A value is trying to be set on a copy of a slice from a DataFrame\n",
      "\n",
      "See the caveats in the documentation: http://pandas.pydata.org/pandas-docs/stable/indexing.html#indexing-view-versus-copy\n",
      "C:\\Users\\Praneet\\Anaconda3\\lib\\site-packages\\ipykernel_launcher.py:21: SettingWithCopyWarning: \n",
      "A value is trying to be set on a copy of a slice from a DataFrame\n",
      "\n",
      "See the caveats in the documentation: http://pandas.pydata.org/pandas-docs/stable/indexing.html#indexing-view-versus-copy\n",
      "C:\\Users\\Praneet\\Anaconda3\\lib\\site-packages\\ipykernel_launcher.py:22: SettingWithCopyWarning: \n",
      "A value is trying to be set on a copy of a slice from a DataFrame\n",
      "\n",
      "See the caveats in the documentation: http://pandas.pydata.org/pandas-docs/stable/indexing.html#indexing-view-versus-copy\n",
      "C:\\Users\\Praneet\\Anaconda3\\lib\\site-packages\\ipykernel_launcher.py:23: SettingWithCopyWarning: \n",
      "A value is trying to be set on a copy of a slice from a DataFrame\n",
      "\n",
      "See the caveats in the documentation: http://pandas.pydata.org/pandas-docs/stable/indexing.html#indexing-view-versus-copy\n"
     ]
    }
   ],
   "source": [
    "#print(train_set.describe())\n",
    "#print(test_set.describe())\n",
    "##print(train_set[\"Survived\"][train_set[\"Sex\"] == \"male\"].value_counts())\n",
    "##print(train_set[\"Survived\"][train_set[\"Sex\"] == \"female\"].value_counts())\n",
    "train_set[\"Child\"] = 0\n",
    "test_set[\"Child\"] = 0\n",
    "\n",
    "train_set[\"Child\"][train_set[\"Age\"] <18] = 1\n",
    "test_set[\"Child\"][test_set[\"Age\"] < 18] = 1\n",
    "\n",
    "#print(test_set[[\"Age\", \"Child\"]])\n",
    "#print(train_set[[\"Age\", \"Child\"]])\n",
    "\n",
    "test_set[\"Age\"] = test_set[\"Age\"].fillna(test_set[\"Age\"].mean())\n",
    "train_set[\"Age\"] = train_set[\"Age\"].fillna(train_set[\"Age\"].mean())\n",
    "\n",
    "train_set[\"Sex\"][train_set[\"Sex\"] == \"male\"] = 0\n",
    "train_set[\"Sex\"][train_set[\"Sex\"] == \"female\"] = 1\n",
    "\n",
    "train_set[\"Embarked\"] = train_set[\"Embarked\"].fillna(\"S\")\n",
    "train_set[\"Embarked\"][train_set[\"Embarked\"] == \"S\"] = 0\n",
    "train_set[\"Embarked\"][train_set[\"Embarked\"] == \"C\"] = 1\n",
    "train_set[\"Embarked\"][train_set[\"Embarked\"] == \"Q\"] = 2\n",
    "\n",
    "\n",
    "'''\n",
    "print(train_set.head())\n",
    "print(test_set.head())\n",
    "'''\n",
    "\n",
    "Xdat = train_set[[\"Pclass\", \"Sex\", \"Age\", \"SibSp\", \"Parch\", \"Fare\", \"Embarked\", \"Child\"]].values\n",
    "ydat = train_set[\"Survived\"].values\n",
    "\n",
    "#print(train_set[\"Embarked\"])\n"
   ]
  },
  {
   "cell_type": "code",
   "execution_count": 135,
   "metadata": {},
   "outputs": [
    {
     "name": "stdout",
     "output_type": "stream",
     "text": [
      "0.982042648709\n"
     ]
    }
   ],
   "source": [
    "treeModel = tree.DecisionTreeClassifier()\n",
    "treeModel = treeModel.fit(Xdat, ydat)\n",
    "\n",
    "print(treeModel.score(Xdat, ydat))"
   ]
  },
  {
   "cell_type": "code",
   "execution_count": 136,
   "metadata": {},
   "outputs": [
    {
     "name": "stdout",
     "output_type": "stream",
     "text": [
      "0      2\n",
      "1      0\n",
      "2      2\n",
      "3      0\n",
      "4      0\n",
      "5      0\n",
      "6      2\n",
      "7      0\n",
      "8      1\n",
      "9      0\n",
      "10     0\n",
      "11     0\n",
      "12     0\n",
      "13     0\n",
      "14     0\n",
      "15     1\n",
      "16     2\n",
      "17     1\n",
      "18     0\n",
      "19     1\n",
      "20     1\n",
      "21     0\n",
      "22     0\n",
      "23     1\n",
      "24     1\n",
      "25     0\n",
      "26     1\n",
      "27     1\n",
      "28     0\n",
      "29     1\n",
      "      ..\n",
      "388    2\n",
      "389    0\n",
      "390    0\n",
      "391    0\n",
      "392    0\n",
      "393    0\n",
      "394    0\n",
      "395    0\n",
      "396    2\n",
      "397    1\n",
      "398    0\n",
      "399    2\n",
      "400    0\n",
      "401    0\n",
      "402    1\n",
      "403    0\n",
      "404    1\n",
      "405    1\n",
      "406    0\n",
      "407    1\n",
      "408    2\n",
      "409    0\n",
      "410    2\n",
      "411    2\n",
      "412    0\n",
      "413    0\n",
      "414    1\n",
      "415    0\n",
      "416    0\n",
      "417    1\n",
      "Name: Embarked, Length: 418, dtype: object\n"
     ]
    },
    {
     "name": "stderr",
     "output_type": "stream",
     "text": [
      "C:\\Users\\Praneet\\Anaconda3\\lib\\site-packages\\ipykernel_launcher.py:2: SettingWithCopyWarning: \n",
      "A value is trying to be set on a copy of a slice from a DataFrame\n",
      "\n",
      "See the caveats in the documentation: http://pandas.pydata.org/pandas-docs/stable/indexing.html#indexing-view-versus-copy\n",
      "  \n",
      "C:\\Users\\Praneet\\Anaconda3\\lib\\site-packages\\ipykernel_launcher.py:3: SettingWithCopyWarning: \n",
      "A value is trying to be set on a copy of a slice from a DataFrame\n",
      "\n",
      "See the caveats in the documentation: http://pandas.pydata.org/pandas-docs/stable/indexing.html#indexing-view-versus-copy\n",
      "  This is separate from the ipykernel package so we can avoid doing imports until\n",
      "C:\\Users\\Praneet\\Anaconda3\\lib\\site-packages\\ipykernel_launcher.py:4: SettingWithCopyWarning: \n",
      "A value is trying to be set on a copy of a slice from a DataFrame\n",
      "\n",
      "See the caveats in the documentation: http://pandas.pydata.org/pandas-docs/stable/indexing.html#indexing-view-versus-copy\n",
      "  after removing the cwd from sys.path.\n",
      "C:\\Users\\Praneet\\Anaconda3\\lib\\site-packages\\ipykernel_launcher.py:5: SettingWithCopyWarning: \n",
      "A value is trying to be set on a copy of a slice from a DataFrame\n",
      "\n",
      "See the caveats in the documentation: http://pandas.pydata.org/pandas-docs/stable/indexing.html#indexing-view-versus-copy\n",
      "  \"\"\"\n",
      "C:\\Users\\Praneet\\Anaconda3\\lib\\site-packages\\ipykernel_launcher.py:6: SettingWithCopyWarning: \n",
      "A value is trying to be set on a copy of a slice from a DataFrame\n",
      "\n",
      "See the caveats in the documentation: http://pandas.pydata.org/pandas-docs/stable/indexing.html#indexing-view-versus-copy\n",
      "  \n"
     ]
    }
   ],
   "source": [
    "test_set[\"Embarked\"] = test_set[\"Embarked\"].fillna(\"S\")\n",
    "test_set[\"Sex\"][test_set[\"Sex\"] == \"male\"] = 0\n",
    "test_set[\"Sex\"][test_set[\"Sex\"] == \"female\"] = 1\n",
    "test_set[\"Embarked\"][test_set[\"Embarked\"] == \"S\"] = 0\n",
    "test_set[\"Embarked\"][test_set[\"Embarked\"] == \"C\"] = 1\n",
    "test_set[\"Embarked\"][test_set[\"Embarked\"] == \"Q\"] = 2\n",
    "\n",
    "print(test_set[\"Embarked\"])"
   ]
  },
  {
   "cell_type": "code",
   "execution_count": 144,
   "metadata": {},
   "outputs": [
    {
     "name": "stdout",
     "output_type": "stream",
     "text": [
      "PassengerId    False\n",
      "Pclass         False\n",
      "Name           False\n",
      "Sex            False\n",
      "Age            False\n",
      "SibSp          False\n",
      "Parch          False\n",
      "Ticket         False\n",
      "Fare           False\n",
      "Cabin           True\n",
      "Embarked       False\n",
      "Child          False\n",
      "dtype: bool\n"
     ]
    }
   ],
   "source": [
    "#print(test_set[\"Embarked\"])\n",
    "#print(test_set[\"Fare\"])\n",
    "test_set[\"Fare\"] = test_set[\"Fare\"].fillna(test_set[\"Fare\"].mean())\n",
    "test_X = test_set[[\"Pclass\", \"Sex\", \"Age\", \"SibSp\", \"Parch\", \"Fare\", \"Embarked\", \"Child\"]].values\n",
    "print(test_set.isnull().any())\n",
    "predictions = treeModel.predict(test_X)"
   ]
  },
  {
   "cell_type": "code",
   "execution_count": 147,
   "metadata": {},
   "outputs": [
    {
     "data": {
      "text/plain": [
       "array([0, 0, 1, 1, 1, 0, 0, 0, 1, 0, 0, 0, 1, 1, 1, 1, 0, 1, 1, 0, 1, 1, 1,\n",
       "       0, 1, 0, 1, 1, 1, 0, 0, 0, 1, 0, 1, 1, 0, 0, 0, 1, 0, 0, 0, 1, 1, 0,\n",
       "       1, 0, 1, 1, 1, 0, 1, 0, 0, 0, 0, 0, 0, 1, 0, 0, 0, 1, 1, 1, 1, 0, 0,\n",
       "       1, 1, 0, 0, 0, 1, 0, 0, 0, 0, 1, 1, 0, 0, 0, 1, 0, 1, 1, 0, 1, 1, 0,\n",
       "       0, 0, 0, 0, 1, 0, 1, 0, 1, 0, 0, 0, 1, 0, 0, 0, 1, 0, 0, 0, 1, 1, 1,\n",
       "       1, 0, 1, 0, 1, 1, 0, 1, 0, 0, 1, 0, 0, 0, 0, 1, 0, 0, 0, 0, 0, 0, 0,\n",
       "       0, 0, 0, 1, 1, 0, 0, 1, 0, 0, 0, 0, 1, 0, 0, 1, 0, 0, 1, 0, 0, 0, 0,\n",
       "       1, 1, 0, 0, 1, 0, 0, 1, 0, 0, 0, 0, 0, 0, 1, 1, 1, 1, 1, 0, 1, 1, 0,\n",
       "       1, 0, 1, 0, 0, 0, 0, 0, 1, 0, 1, 0, 1, 0, 0, 0, 0, 1, 0, 1, 0, 0, 0,\n",
       "       0, 1, 0, 1, 0, 0, 1, 0, 0, 0, 0, 1, 0, 1, 0, 1, 1, 1, 0, 0, 0, 0, 0,\n",
       "       0, 1, 1, 0, 0, 0, 1, 1, 1, 1, 1, 1, 1, 0, 0, 0, 1, 0, 1, 0, 0, 0, 0,\n",
       "       0, 0, 0, 0, 0, 0, 0, 0, 0, 1, 1, 1, 0, 0, 0, 0, 0, 0, 0, 1, 0, 0, 1,\n",
       "       0, 0, 0, 0, 0, 1, 0, 0, 1, 0, 0, 0, 0, 0, 0, 0, 0, 0, 0, 0, 0, 0, 0,\n",
       "       0, 0, 0, 0, 0, 0, 1, 0, 1, 0, 0, 0, 1, 0, 0, 1, 1, 1, 0, 0, 0, 0, 0,\n",
       "       0, 1, 1, 0, 1, 0, 0, 0, 1, 1, 0, 1, 0, 0, 0, 0, 0, 0, 0, 0, 0, 1, 0,\n",
       "       1, 0, 0, 0, 1, 1, 0, 0, 0, 1, 0, 1, 0, 0, 1, 0, 1, 1, 1, 1, 1, 0, 1,\n",
       "       1, 1, 0, 1, 0, 0, 1, 1, 0, 0, 0, 0, 0, 0, 1, 1, 0, 1, 0, 0, 0, 0, 0,\n",
       "       1, 0, 0, 0, 1, 0, 1, 0, 0, 1, 0, 1, 1, 0, 1, 0, 0, 0, 1, 0, 1, 0, 0,\n",
       "       1, 0, 0, 1], dtype=int64)"
      ]
     },
     "execution_count": 147,
     "metadata": {},
     "output_type": "execute_result"
    }
   ],
   "source": [
    "predictions"
   ]
  },
  {
   "cell_type": "code",
   "execution_count": 151,
   "metadata": {},
   "outputs": [
    {
     "name": "stdout",
     "output_type": "stream",
     "text": [
      "      Survived\n",
      "892          0\n",
      "893          0\n",
      "894          1\n",
      "895          1\n",
      "896          1\n",
      "897          0\n",
      "898          0\n",
      "899          0\n",
      "900          1\n",
      "901          0\n",
      "902          0\n",
      "903          0\n",
      "904          1\n",
      "905          1\n",
      "906          1\n",
      "907          1\n",
      "908          0\n",
      "909          1\n",
      "910          1\n",
      "911          0\n",
      "912          1\n",
      "913          1\n",
      "914          1\n",
      "915          0\n",
      "916          1\n",
      "917          0\n",
      "918          1\n",
      "919          1\n",
      "920          1\n",
      "921          0\n",
      "...        ...\n",
      "1280         0\n",
      "1281         0\n",
      "1282         0\n",
      "1283         1\n",
      "1284         0\n",
      "1285         0\n",
      "1286         0\n",
      "1287         1\n",
      "1288         0\n",
      "1289         1\n",
      "1290         0\n",
      "1291         0\n",
      "1292         1\n",
      "1293         0\n",
      "1294         1\n",
      "1295         1\n",
      "1296         0\n",
      "1297         1\n",
      "1298         0\n",
      "1299         0\n",
      "1300         0\n",
      "1301         1\n",
      "1302         0\n",
      "1303         1\n",
      "1304         0\n",
      "1305         0\n",
      "1306         1\n",
      "1307         0\n",
      "1308         0\n",
      "1309         1\n",
      "\n",
      "[418 rows x 1 columns]\n"
     ]
    }
   ],
   "source": [
    "solution = pd.DataFrame(predictions, np.array(test_set[\"PassengerId\"]).astype(int), columns = [\"Survived\"])\n",
    "print(solution)\n",
    "\n",
    "solution.to_csv(\"titanic_solution_0.csv\", index_label = [\"PassengerId\"])"
   ]
  },
  {
   "cell_type": "code",
   "execution_count": 148,
   "metadata": {},
   "outputs": [
    {
     "data": {
      "text/html": [
       "<div>\n",
       "<style>\n",
       "    .dataframe thead tr:only-child th {\n",
       "        text-align: right;\n",
       "    }\n",
       "\n",
       "    .dataframe thead th {\n",
       "        text-align: left;\n",
       "    }\n",
       "\n",
       "    .dataframe tbody tr th {\n",
       "        vertical-align: top;\n",
       "    }\n",
       "</style>\n",
       "<table border=\"1\" class=\"dataframe\">\n",
       "  <thead>\n",
       "    <tr style=\"text-align: right;\">\n",
       "      <th></th>\n",
       "      <th>PassengerId</th>\n",
       "      <th>Pclass</th>\n",
       "      <th>Name</th>\n",
       "      <th>Sex</th>\n",
       "      <th>Age</th>\n",
       "      <th>SibSp</th>\n",
       "      <th>Parch</th>\n",
       "      <th>Ticket</th>\n",
       "      <th>Fare</th>\n",
       "      <th>Cabin</th>\n",
       "      <th>Embarked</th>\n",
       "      <th>Child</th>\n",
       "    </tr>\n",
       "  </thead>\n",
       "  <tbody>\n",
       "    <tr>\n",
       "      <th>0</th>\n",
       "      <td>892</td>\n",
       "      <td>3</td>\n",
       "      <td>Kelly, Mr. James</td>\n",
       "      <td>0</td>\n",
       "      <td>34.5</td>\n",
       "      <td>0</td>\n",
       "      <td>0</td>\n",
       "      <td>330911</td>\n",
       "      <td>7.8292</td>\n",
       "      <td>NaN</td>\n",
       "      <td>2</td>\n",
       "      <td>0</td>\n",
       "    </tr>\n",
       "    <tr>\n",
       "      <th>1</th>\n",
       "      <td>893</td>\n",
       "      <td>3</td>\n",
       "      <td>Wilkes, Mrs. James (Ellen Needs)</td>\n",
       "      <td>1</td>\n",
       "      <td>47.0</td>\n",
       "      <td>1</td>\n",
       "      <td>0</td>\n",
       "      <td>363272</td>\n",
       "      <td>7.0000</td>\n",
       "      <td>NaN</td>\n",
       "      <td>0</td>\n",
       "      <td>0</td>\n",
       "    </tr>\n",
       "    <tr>\n",
       "      <th>2</th>\n",
       "      <td>894</td>\n",
       "      <td>2</td>\n",
       "      <td>Myles, Mr. Thomas Francis</td>\n",
       "      <td>0</td>\n",
       "      <td>62.0</td>\n",
       "      <td>0</td>\n",
       "      <td>0</td>\n",
       "      <td>240276</td>\n",
       "      <td>9.6875</td>\n",
       "      <td>NaN</td>\n",
       "      <td>2</td>\n",
       "      <td>0</td>\n",
       "    </tr>\n",
       "    <tr>\n",
       "      <th>3</th>\n",
       "      <td>895</td>\n",
       "      <td>3</td>\n",
       "      <td>Wirz, Mr. Albert</td>\n",
       "      <td>0</td>\n",
       "      <td>27.0</td>\n",
       "      <td>0</td>\n",
       "      <td>0</td>\n",
       "      <td>315154</td>\n",
       "      <td>8.6625</td>\n",
       "      <td>NaN</td>\n",
       "      <td>0</td>\n",
       "      <td>0</td>\n",
       "    </tr>\n",
       "    <tr>\n",
       "      <th>4</th>\n",
       "      <td>896</td>\n",
       "      <td>3</td>\n",
       "      <td>Hirvonen, Mrs. Alexander (Helga E Lindqvist)</td>\n",
       "      <td>1</td>\n",
       "      <td>22.0</td>\n",
       "      <td>1</td>\n",
       "      <td>1</td>\n",
       "      <td>3101298</td>\n",
       "      <td>12.2875</td>\n",
       "      <td>NaN</td>\n",
       "      <td>0</td>\n",
       "      <td>0</td>\n",
       "    </tr>\n",
       "  </tbody>\n",
       "</table>\n",
       "</div>"
      ],
      "text/plain": [
       "   PassengerId  Pclass                                          Name Sex  \\\n",
       "0          892       3                              Kelly, Mr. James   0   \n",
       "1          893       3              Wilkes, Mrs. James (Ellen Needs)   1   \n",
       "2          894       2                     Myles, Mr. Thomas Francis   0   \n",
       "3          895       3                              Wirz, Mr. Albert   0   \n",
       "4          896       3  Hirvonen, Mrs. Alexander (Helga E Lindqvist)   1   \n",
       "\n",
       "    Age  SibSp  Parch   Ticket     Fare Cabin Embarked  Child  \n",
       "0  34.5      0      0   330911   7.8292   NaN        2      0  \n",
       "1  47.0      1      0   363272   7.0000   NaN        0      0  \n",
       "2  62.0      0      0   240276   9.6875   NaN        2      0  \n",
       "3  27.0      0      0   315154   8.6625   NaN        0      0  \n",
       "4  22.0      1      1  3101298  12.2875   NaN        0      0  "
      ]
     },
     "execution_count": 148,
     "metadata": {},
     "output_type": "execute_result"
    }
   ],
   "source": [
    "test_set.head()"
   ]
  },
  {
   "cell_type": "code",
   "execution_count": 177,
   "metadata": {},
   "outputs": [
    {
     "name": "stdout",
     "output_type": "stream",
     "text": [
      "0.904601571268\n"
     ]
    }
   ],
   "source": [
    "#?tree.DecisionTreeClassifier\n",
    "train_set[\"Family\"] = train_set.SibSp + train_set.Parch + 1\n",
    "modX = train_set[[\"Pclass\", \"Sex\", \"Age\", \"SibSp\", \"Parch\", \"Fare\", \"Embarked\", \"Child\", \"Family\"]].values\n",
    "treeMod2 = tree.DecisionTreeClassifier(max_depth = 10, min_samples_split = 5, random_state = 1)\n",
    "treeMod2 = treeMod2.fit(modX, ydat)\n",
    "\n",
    "print(treeMod2.score(modX, ydat))"
   ]
  },
  {
   "cell_type": "code",
   "execution_count": 178,
   "metadata": {},
   "outputs": [],
   "source": [
    "test_set[\"Family\"] = test_set.SibSp + test_set.Parch + 1\n",
    "test_X = test_set[[\"Pclass\", \"Sex\", \"Age\", \"SibSp\", \"Parch\", \"Fare\", \"Embarked\", \"Child\", \"Family\"]].values\n",
    "pred2 = treeMod2.predict(test_X)"
   ]
  },
  {
   "cell_type": "code",
   "execution_count": 179,
   "metadata": {
    "collapsed": true
   },
   "outputs": [],
   "source": [
    "sol = pd.DataFrame(pred2, np.array(test_set[\"PassengerId\"]).astype(int), columns = [\"Survived\"])\n",
    "\n",
    "sol.to_csv(\"titanic_sol_1.csv\", index_label = [\"PassengerId\"])"
   ]
  },
  {
   "cell_type": "code",
   "execution_count": 180,
   "metadata": {},
   "outputs": [
    {
     "name": "stdout",
     "output_type": "stream",
     "text": [
      "0.915824915825\n"
     ]
    }
   ],
   "source": [
    "## Random Forest Classifier\n",
    "from sklearn.ensemble import RandomForestClassifier\n",
    "\n",
    "rfc = RandomForestClassifier(n_estimators = 100, max_depth = 10, min_samples_split = 5, random_state = 1)\n",
    "\n",
    "rfc = rfc.fit(modX, ydat)\n",
    "print(rfc.score(modX, ydat))"
   ]
  },
  {
   "cell_type": "code",
   "execution_count": 187,
   "metadata": {},
   "outputs": [
    {
     "data": {
      "text/plain": [
       "array([ 0.1099401 ,  0.34703978,  0.16698838,  0.02995099,  0.02471021,\n",
       "        0.21098075,  0.03074632,  0.02008417,  0.05955929])"
      ]
     },
     "execution_count": 187,
     "metadata": {},
     "output_type": "execute_result"
    }
   ],
   "source": [
    "rfc.feature_importances_"
   ]
  },
  {
   "cell_type": "code",
   "execution_count": 181,
   "metadata": {
    "collapsed": true
   },
   "outputs": [],
   "source": [
    "rfcPreds = rfc.predict(test_X)"
   ]
  },
  {
   "cell_type": "code",
   "execution_count": 182,
   "metadata": {},
   "outputs": [],
   "source": [
    "rfcSol = pd.DataFrame(rfcPreds, np.array(test_set[\"PassengerId\"]).astype(int), columns = [\"Survived\"])\n",
    "rfcSol.to_csv(\"titatnic_rfc_0.csv\", index_label = \"PassengerId\")"
   ]
  },
  {
   "cell_type": "code",
   "execution_count": 185,
   "metadata": {},
   "outputs": [
    {
     "name": "stdout",
     "output_type": "stream",
     "text": [
      "0.915824915825\n"
     ]
    }
   ],
   "source": [
    "XwoFam = train_set[[\"Pclass\", \"Sex\", \"Age\", \"SibSp\", \"Parch\", \"Fare\", \"Embarked\", \"Child\"]].values\n",
    "tesWoFam = test_set[[\"Pclass\", \"Sex\", \"Age\", \"SibSp\", \"Parch\", \"Fare\", \"Embarked\", \"Child\"]].values\n",
    "rfcWoFam = RandomForestClassifier(n_estimators = 100, max_depth = 10, min_samples_split = 5, random_state = 1)\n",
    "rfcWoFam = rfcWoFam.fit(XwoFam, ydat)\n",
    "\n",
    "print(rfcWoFam.score(XwoFam, ydat))"
   ]
  },
  {
   "cell_type": "code",
   "execution_count": 186,
   "metadata": {
    "collapsed": true
   },
   "outputs": [],
   "source": [
    "rfcWoFamPreds = rfcWoFam.predict(tesWoFam)\n",
    "\n",
    "rfcWoFamSol = pd.DataFrame(rfcWoFamPreds, np.array(test_set[\"PassengerId\"]).astype(int), columns = [\"Survived\"])\n",
    "rfcWoFamSol.to_csv(\"titatnic_rfcWoFam_1.csv\", index_label = \"PassengerId\")"
   ]
  },
  {
   "cell_type": "code",
   "execution_count": 205,
   "metadata": {
    "collapsed": true
   },
   "outputs": [],
   "source": [
    "import matplotlib.pyplot as plt"
   ]
  },
  {
   "cell_type": "code",
   "execution_count": 206,
   "metadata": {},
   "outputs": [
    {
     "data": {
      "image/png": "[encoded data removed]",
      "text/plain": [
       "<matplotlib.figure.Figure at 0x229a3c44b38>"
      ]
     },
     "metadata": {},
     "output_type": "display_data"
    }
   ],
   "source": [
    "plt.scatter(train_set[\"Fare\"].values, train_set[\"Survived\"].values)\n",
    "plt.show()"
   ]
  },
  {
   "cell_type": "code",
   "execution_count": 207,
   "metadata": {},
   "outputs": [
    {
     "data": {
      "text/plain": [
       "array([ 0.1099401 ,  0.34703978,  0.16698838,  0.02995099,  0.02471021,\n",
       "        0.21098075,  0.03074632,  0.02008417,  0.05955929])"
      ]
     },
     "execution_count": 207,
     "metadata": {},
     "output_type": "execute_result"
    }
   ],
   "source": [
    "rfc.feature_importances_"
   ]
  },
  {
   "cell_type": "code",
   "execution_count": 208,
   "metadata": {},
   "outputs": [
    {
     "data": {
      "text/html": [
       "<div>\n",
       "<style>\n",
       "    .dataframe thead tr:only-child th {\n",
       "        text-align: right;\n",
       "    }\n",
       "\n",
       "    .dataframe thead th {\n",
       "        text-align: left;\n",
       "    }\n",
       "\n",
       "    .dataframe tbody tr th {\n",
       "        vertical-align: top;\n",
       "    }\n",
       "</style>\n",
       "<table border=\"1\" class=\"dataframe\">\n",
       "  <thead>\n",
       "    <tr style=\"text-align: right;\">\n",
       "      <th></th>\n",
       "      <th>PassengerId</th>\n",
       "      <th>Survived</th>\n",
       "      <th>Pclass</th>\n",
       "      <th>Name</th>\n",
       "      <th>Sex</th>\n",
       "      <th>Age</th>\n",
       "      <th>SibSp</th>\n",
       "      <th>Parch</th>\n",
       "      <th>Ticket</th>\n",
       "      <th>Fare</th>\n",
       "      <th>Cabin</th>\n",
       "      <th>Embarked</th>\n",
       "      <th>Child</th>\n",
       "      <th>Family</th>\n",
       "    </tr>\n",
       "  </thead>\n",
       "  <tbody>\n",
       "    <tr>\n",
       "      <th>0</th>\n",
       "      <td>1</td>\n",
       "      <td>0</td>\n",
       "      <td>3</td>\n",
       "      <td>Braund, Mr. Owen Harris</td>\n",
       "      <td>0</td>\n",
       "      <td>22.0</td>\n",
       "      <td>1</td>\n",
       "      <td>0</td>\n",
       "      <td>A/5 21171</td>\n",
       "      <td>7.2500</td>\n",
       "      <td>NaN</td>\n",
       "      <td>0</td>\n",
       "      <td>0</td>\n",
       "      <td>2</td>\n",
       "    </tr>\n",
       "    <tr>\n",
       "      <th>1</th>\n",
       "      <td>2</td>\n",
       "      <td>1</td>\n",
       "      <td>1</td>\n",
       "      <td>Cumings, Mrs. John Bradley (Florence Briggs Th...</td>\n",
       "      <td>1</td>\n",
       "      <td>38.0</td>\n",
       "      <td>1</td>\n",
       "      <td>0</td>\n",
       "      <td>PC 17599</td>\n",
       "      <td>71.2833</td>\n",
       "      <td>C85</td>\n",
       "      <td>1</td>\n",
       "      <td>0</td>\n",
       "      <td>2</td>\n",
       "    </tr>\n",
       "    <tr>\n",
       "      <th>2</th>\n",
       "      <td>3</td>\n",
       "      <td>1</td>\n",
       "      <td>3</td>\n",
       "      <td>Heikkinen, Miss. Laina</td>\n",
       "      <td>1</td>\n",
       "      <td>26.0</td>\n",
       "      <td>0</td>\n",
       "      <td>0</td>\n",
       "      <td>STON/O2. 3101282</td>\n",
       "      <td>7.9250</td>\n",
       "      <td>NaN</td>\n",
       "      <td>0</td>\n",
       "      <td>0</td>\n",
       "      <td>1</td>\n",
       "    </tr>\n",
       "    <tr>\n",
       "      <th>3</th>\n",
       "      <td>4</td>\n",
       "      <td>1</td>\n",
       "      <td>1</td>\n",
       "      <td>Futrelle, Mrs. Jacques Heath (Lily May Peel)</td>\n",
       "      <td>1</td>\n",
       "      <td>35.0</td>\n",
       "      <td>1</td>\n",
       "      <td>0</td>\n",
       "      <td>113803</td>\n",
       "      <td>53.1000</td>\n",
       "      <td>C123</td>\n",
       "      <td>0</td>\n",
       "      <td>0</td>\n",
       "      <td>2</td>\n",
       "    </tr>\n",
       "    <tr>\n",
       "      <th>4</th>\n",
       "      <td>5</td>\n",
       "      <td>0</td>\n",
       "      <td>3</td>\n",
       "      <td>Allen, Mr. William Henry</td>\n",
       "      <td>0</td>\n",
       "      <td>35.0</td>\n",
       "      <td>0</td>\n",
       "      <td>0</td>\n",
       "      <td>373450</td>\n",
       "      <td>8.0500</td>\n",
       "      <td>NaN</td>\n",
       "      <td>0</td>\n",
       "      <td>0</td>\n",
       "      <td>1</td>\n",
       "    </tr>\n",
       "  </tbody>\n",
       "</table>\n",
       "</div>"
      ],
      "text/plain": [
       "   PassengerId  Survived  Pclass  \\\n",
       "0            1         0       3   \n",
       "1            2         1       1   \n",
       "2            3         1       3   \n",
       "3            4         1       1   \n",
       "4            5         0       3   \n",
       "\n",
       "                                                Name Sex   Age  SibSp  Parch  \\\n",
       "0                            Braund, Mr. Owen Harris   0  22.0      1      0   \n",
       "1  Cumings, Mrs. John Bradley (Florence Briggs Th...   1  38.0      1      0   \n",
       "2                             Heikkinen, Miss. Laina   1  26.0      0      0   \n",
       "3       Futrelle, Mrs. Jacques Heath (Lily May Peel)   1  35.0      1      0   \n",
       "4                           Allen, Mr. William Henry   0  35.0      0      0   \n",
       "\n",
       "             Ticket     Fare Cabin Embarked  Child  Family  \n",
       "0         A/5 21171   7.2500   NaN        0      0       2  \n",
       "1          PC 17599  71.2833   C85        1      0       2  \n",
       "2  STON/O2. 3101282   7.9250   NaN        0      0       1  \n",
       "3            113803  53.1000  C123        0      0       2  \n",
       "4            373450   8.0500   NaN        0      0       1  "
      ]
     },
     "execution_count": 208,
     "metadata": {},
     "output_type": "execute_result"
    }
   ],
   "source": [
    "train_set.head()"
   ]
  },
  {
   "cell_type": "code",
   "execution_count": 209,
   "metadata": {
    "collapsed": true
   },
   "outputs": [],
   "source": [
    "?pd.melt"
   ]
  },
  {
   "cell_type": "code",
   "execution_count": null,
   "metadata": {
    "collapsed": true
   },
   "outputs": [],
   "source": []
  }
 ],
 "metadata": {
  "kernelspec": {
   "display_name": "Python 3",
   "language": "python",
   "name": "python3"
  },
  "language_info": {
   "codemirror_mode": {
    "name": "ipython",
    "version": 3
   },
   "file_extension": ".py",
   "mimetype": "text/x-python",
   "name": "python",
   "nbconvert_exporter": "python",
   "pygments_lexer": "ipython3",
   "version": "3.6.2"
  }
 },
 "nbformat": 4,
 "nbformat_minor": 2
}
